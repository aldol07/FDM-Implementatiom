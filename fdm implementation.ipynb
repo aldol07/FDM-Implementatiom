{
 "cells": [
  {
   "cell_type": "code",
   "execution_count": 75,
   "id": "37f84dfb-66fa-468b-a21a-c30fb5c4c345",
   "metadata": {},
   "outputs": [
    {
     "name": "stdout",
     "output_type": "stream",
     "text": [
      "Sub-band data saved to outputseeg_subbands.csv\n"
     ]
    }
   ],
   "source": [
    "import numpy as np\n",
    "from scipy.fftpack import dct, idct\n",
    "from scipy.fft import fft, ifft\n",
    "import pandas as pd\n",
    "import matplotlib.pyplot as plt\n",
    "\n",
    "def fdm(X, fs, fc, filter_type='dct', sort_fc='ascend', plot_subbands=True):\n",
    "    N = X.shape[0]\n",
    "    fc = np.sort(fc)\n",
    "    if fc[0] != 0:\n",
    "        fc = np.hstack((0, fc))\n",
    "    if fc[-1] != fs / 2:\n",
    "        fc = np.hstack((fc, fs / 2))\n",
    "    if sort_fc == 'descend':\n",
    "        fc = fc[::-1]\n",
    "\n",
    "    if filter_type == 'dct':\n",
    "        dct_type = 2\n",
    "        K = np.round(2 * N * fc / fs).astype(int)\n",
    "        no_of_subbands = K.shape[0] - 1\n",
    "        Hk = np.zeros((N, 1, no_of_subbands))\n",
    "\n",
    "        for i in range(no_of_subbands):\n",
    "            if sort_fc == 'ascend':\n",
    "                Hk[K[i]:K[i+1], :, i] = 1\n",
    "            if sort_fc == 'descend':\n",
    "                Hk[K[i+1]:K[i], :, i] = 1\n",
    "\n",
    "        Xk = dct(X, type=dct_type, n=N, axis=0, norm='ortho')\n",
    "        Yk = np.einsum('ij,ijk->ijk', Xk, Hk)\n",
    "        Y = idct(Yk, type=dct_type, n=N, axis=0, norm='ortho')\n",
    "\n",
    "    if plot_subbands:\n",
    "        t = np.arange(0, X.shape[0]) / fs\n",
    "        plt.figure(figsize=(16, 12))\n",
    "        for k in range(no_of_subbands):\n",
    "            plt.subplot(no_of_subbands, 1, k + 1)\n",
    "            plt.plot(t, Y[:, 0, k])\n",
    "            plt.title(f\"Sub-band {k + 1}: {fc[k]}-{fc[k + 1]} Hz\")\n",
    "        plt.tight_layout()\n",
    "        plt.show()\n",
    "\n",
    "    return Y\n",
    "\n",
    "# Main script\n",
    "file_path = 'synthetic_eeg_dataset.csv'\n",
    "eeg_data = pd.read_csv(file_path)\n",
    "signal_data = eeg_data.iloc[:, :-1].values\n",
    "labels = eeg_data['label'].values\n",
    "\n",
    "fs = 500\n",
    "fc = [0.5, 4, 8, 13, 30, fs / 2]\n",
    "filter_type = 'dct'\n",
    "sort_fc = 'ascend'\n",
    "\n",
    "all_subbands = fdm(signal_data, fs, fc, filter_type=filter_type, sort_fc=sort_fc, plot_subbands=False)\n",
    "\n",
    "num_samples, _, num_subbands = all_subbands.shape\n",
    "reshaped_subbands = all_subbands.swapaxes(1, 2).reshape(num_samples, -1)\n",
    "output_file = 'outputseeg_subbands.csv'\n",
    "pd.DataFrame(reshaped_subbands).to_csv(output_file, index=False)\n",
    "\n",
    "print(f\"Sub-band data saved to {output_file}\")\n"
   ]
  },
  {
   "cell_type": "code",
   "execution_count": null,
   "id": "fbaf4e4d-bd06-4978-8f97-11686172f1e8",
   "metadata": {},
   "outputs": [],
   "source": []
  }
 ],
 "metadata": {
  "kernelspec": {
   "display_name": "Python 3 (ipykernel)",
   "language": "python",
   "name": "python3"
  },
  "language_info": {
   "codemirror_mode": {
    "name": "ipython",
    "version": 3
   },
   "file_extension": ".py",
   "mimetype": "text/x-python",
   "name": "python",
   "nbconvert_exporter": "python",
   "pygments_lexer": "ipython3",
   "version": "3.12.3"
  }
 },
 "nbformat": 4,
 "nbformat_minor": 5
}
